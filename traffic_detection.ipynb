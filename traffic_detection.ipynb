{
  "nbformat": 4,
  "nbformat_minor": 0,
  "metadata": {
    "colab": {
      "provenance": [],
      "authorship_tag": "ABX9TyPNtOR7Y/VS+J9ytAOBjJJG",
      "include_colab_link": true
    },
    "kernelspec": {
      "name": "python3",
      "display_name": "Python 3"
    },
    "language_info": {
      "name": "python"
    }
  },
  "cells": [
    {
      "cell_type": "markdown",
      "metadata": {
        "id": "view-in-github",
        "colab_type": "text"
      },
      "source": [
        "<a href=\"https://colab.research.google.com/github/vverma022/traffic-ai/blob/main/traffic_detection.ipynb\" target=\"_parent\"><img src=\"https://colab.research.google.com/assets/colab-badge.svg\" alt=\"Open In Colab\"/></a>"
      ]
    },
    {
      "cell_type": "code",
      "source": [
        "!pip install ultralytics\n",
        "!pip install opencv-python"
      ],
      "metadata": {
        "colab": {
          "base_uri": "https://localhost:8080/"
        },
        "id": "fVefRa0gW-4t",
        "outputId": "fa04eb6b-19f7-4067-af4c-1a99c627807a"
      },
      "execution_count": null,
      "outputs": [
        {
          "output_type": "stream",
          "name": "stdout",
          "text": [
            "Requirement already satisfied: ultralytics in /usr/local/lib/python3.10/dist-packages (8.2.82)\n",
            "Requirement already satisfied: numpy<2.0.0,>=1.23.0 in /usr/local/lib/python3.10/dist-packages (from ultralytics) (1.26.4)\n",
            "Requirement already satisfied: matplotlib>=3.3.0 in /usr/local/lib/python3.10/dist-packages (from ultralytics) (3.7.1)\n",
            "Requirement already satisfied: opencv-python>=4.6.0 in /usr/local/lib/python3.10/dist-packages (from ultralytics) (4.10.0.84)\n",
            "Requirement already satisfied: pillow>=7.1.2 in /usr/local/lib/python3.10/dist-packages (from ultralytics) (9.4.0)\n",
            "Requirement already satisfied: pyyaml>=5.3.1 in /usr/local/lib/python3.10/dist-packages (from ultralytics) (6.0.2)\n",
            "Requirement already satisfied: requests>=2.23.0 in /usr/local/lib/python3.10/dist-packages (from ultralytics) (2.32.3)\n",
            "Requirement already satisfied: scipy>=1.4.1 in /usr/local/lib/python3.10/dist-packages (from ultralytics) (1.13.1)\n",
            "Requirement already satisfied: torch>=1.8.0 in /usr/local/lib/python3.10/dist-packages (from ultralytics) (2.4.0+cu121)\n",
            "Requirement already satisfied: torchvision>=0.9.0 in /usr/local/lib/python3.10/dist-packages (from ultralytics) (0.19.0+cu121)\n",
            "Requirement already satisfied: tqdm>=4.64.0 in /usr/local/lib/python3.10/dist-packages (from ultralytics) (4.66.5)\n",
            "Requirement already satisfied: psutil in /usr/local/lib/python3.10/dist-packages (from ultralytics) (5.9.5)\n",
            "Requirement already satisfied: py-cpuinfo in /usr/local/lib/python3.10/dist-packages (from ultralytics) (9.0.0)\n",
            "Requirement already satisfied: pandas>=1.1.4 in /usr/local/lib/python3.10/dist-packages (from ultralytics) (2.1.4)\n",
            "Requirement already satisfied: seaborn>=0.11.0 in /usr/local/lib/python3.10/dist-packages (from ultralytics) (0.13.1)\n",
            "Requirement already satisfied: ultralytics-thop>=2.0.0 in /usr/local/lib/python3.10/dist-packages (from ultralytics) (2.0.5)\n",
            "Requirement already satisfied: contourpy>=1.0.1 in /usr/local/lib/python3.10/dist-packages (from matplotlib>=3.3.0->ultralytics) (1.2.1)\n",
            "Requirement already satisfied: cycler>=0.10 in /usr/local/lib/python3.10/dist-packages (from matplotlib>=3.3.0->ultralytics) (0.12.1)\n",
            "Requirement already satisfied: fonttools>=4.22.0 in /usr/local/lib/python3.10/dist-packages (from matplotlib>=3.3.0->ultralytics) (4.53.1)\n",
            "Requirement already satisfied: kiwisolver>=1.0.1 in /usr/local/lib/python3.10/dist-packages (from matplotlib>=3.3.0->ultralytics) (1.4.5)\n",
            "Requirement already satisfied: packaging>=20.0 in /usr/local/lib/python3.10/dist-packages (from matplotlib>=3.3.0->ultralytics) (24.1)\n",
            "Requirement already satisfied: pyparsing>=2.3.1 in /usr/local/lib/python3.10/dist-packages (from matplotlib>=3.3.0->ultralytics) (3.1.2)\n",
            "Requirement already satisfied: python-dateutil>=2.7 in /usr/local/lib/python3.10/dist-packages (from matplotlib>=3.3.0->ultralytics) (2.8.2)\n",
            "Requirement already satisfied: pytz>=2020.1 in /usr/local/lib/python3.10/dist-packages (from pandas>=1.1.4->ultralytics) (2024.1)\n",
            "Requirement already satisfied: tzdata>=2022.1 in /usr/local/lib/python3.10/dist-packages (from pandas>=1.1.4->ultralytics) (2024.1)\n",
            "Requirement already satisfied: charset-normalizer<4,>=2 in /usr/local/lib/python3.10/dist-packages (from requests>=2.23.0->ultralytics) (3.3.2)\n",
            "Requirement already satisfied: idna<4,>=2.5 in /usr/local/lib/python3.10/dist-packages (from requests>=2.23.0->ultralytics) (3.7)\n",
            "Requirement already satisfied: urllib3<3,>=1.21.1 in /usr/local/lib/python3.10/dist-packages (from requests>=2.23.0->ultralytics) (2.0.7)\n",
            "Requirement already satisfied: certifi>=2017.4.17 in /usr/local/lib/python3.10/dist-packages (from requests>=2.23.0->ultralytics) (2024.7.4)\n",
            "Requirement already satisfied: filelock in /usr/local/lib/python3.10/dist-packages (from torch>=1.8.0->ultralytics) (3.15.4)\n",
            "Requirement already satisfied: typing-extensions>=4.8.0 in /usr/local/lib/python3.10/dist-packages (from torch>=1.8.0->ultralytics) (4.12.2)\n",
            "Requirement already satisfied: sympy in /usr/local/lib/python3.10/dist-packages (from torch>=1.8.0->ultralytics) (1.13.2)\n",
            "Requirement already satisfied: networkx in /usr/local/lib/python3.10/dist-packages (from torch>=1.8.0->ultralytics) (3.3)\n",
            "Requirement already satisfied: jinja2 in /usr/local/lib/python3.10/dist-packages (from torch>=1.8.0->ultralytics) (3.1.4)\n",
            "Requirement already satisfied: fsspec in /usr/local/lib/python3.10/dist-packages (from torch>=1.8.0->ultralytics) (2024.6.1)\n",
            "Requirement already satisfied: six>=1.5 in /usr/local/lib/python3.10/dist-packages (from python-dateutil>=2.7->matplotlib>=3.3.0->ultralytics) (1.16.0)\n",
            "Requirement already satisfied: MarkupSafe>=2.0 in /usr/local/lib/python3.10/dist-packages (from jinja2->torch>=1.8.0->ultralytics) (2.1.5)\n",
            "Requirement already satisfied: mpmath<1.4,>=1.1.0 in /usr/local/lib/python3.10/dist-packages (from sympy->torch>=1.8.0->ultralytics) (1.3.0)\n",
            "Requirement already satisfied: opencv-python in /usr/local/lib/python3.10/dist-packages (4.10.0.84)\n",
            "Requirement already satisfied: numpy>=1.21.2 in /usr/local/lib/python3.10/dist-packages (from opencv-python) (1.26.4)\n"
          ]
        }
      ]
    },
    {
      "cell_type": "code",
      "execution_count": null,
      "metadata": {
        "id": "u5FsBOY_Vmxr"
      },
      "outputs": [],
      "source": [
        "import time\n",
        "import cv2\n",
        "import pandas as pd\n",
        "from ultralytics import YOLO\n"
      ]
    },
    {
      "cell_type": "code",
      "source": [
        "model = YOLO('yolov8s.pt')"
      ],
      "metadata": {
        "id": "8MXCJZC5VpuK"
      },
      "execution_count": null,
      "outputs": []
    },
    {
      "cell_type": "code",
      "source": [
        "class_list = ['bicycle', 'car', 'motorcycle', 'bus','truck']"
      ],
      "metadata": {
        "id": "8QTBfpMTXO3q"
      },
      "execution_count": null,
      "outputs": []
    },
    {
      "cell_type": "code",
      "source": [
        "tracker = cv2.TrackerCSRT_create()"
      ],
      "metadata": {
        "id": "Qg7vr2F7XvWn"
      },
      "execution_count": null,
      "outputs": []
    },
    {
      "cell_type": "code",
      "source": [
        "cap = cv2.VideoCapture('/trafficvideo.mp4')\n",
        "if not cap.isOpened():\n",
        "    print(\"Error: Could not open video.\")"
      ],
      "metadata": {
        "id": "MNHE6SUyXzCK"
      },
      "execution_count": null,
      "outputs": []
    },
    {
      "cell_type": "code",
      "source": [
        "previous_positions = {}\n",
        "traffic_scores = []\n",
        "bbox_id = 0\n",
        "slow_speed_threshold = 2  # Speed threshold in pixels/frame\n",
        "red_line_y = 198\n",
        "blue_line_y = 268\n",
        "offset = 7"
      ],
      "metadata": {
        "id": "AExx1Pq5YqRF"
      },
      "execution_count": null,
      "outputs": []
    },
    {
      "cell_type": "code",
      "source": [
        "while True:\n",
        "    ret, frame = cap.read()\n",
        "    if not ret:\n",
        "        print(\"Failed to grab frame\")\n",
        "        break\n",
        "\n",
        "    frame = cv2.resize(frame, (1020, 500))\n",
        "    results = model.predict(frame)\n",
        "    a = results[0].boxes.data\n",
        "    a = a.detach().cpu().numpy()\n",
        "    px = pd.DataFrame(a).astype(\"float\")\n",
        "\n",
        "    car_list = []\n",
        "\n",
        "    for index, row in px.iterrows():\n",
        "        x1 = int(row[0])\n",
        "        y1 = int(row[1])\n",
        "        x2 = int(row[2])\n",
        "        y2 = int(row[3])\n",
        "        d = int(row[5])\n",
        "       if d < len(class_list):\n",
        "            c = class_list[d]\n",
        "            if c in ['car', 'bus', 'truck', 'bicycle', 'motorcycle', 'minivan']:\n",
        "                car_list.append([x1, y1, x2, y2])\n",
        "\n",
        "    # Track car speeds and calculate traffic score\n",
        "    slow_cars_count = 0\n",
        "    total_cars = 0\n",
        "\n",
        "    for bbox in car_list:\n",
        "        x3, y3, x4, y4 = bbox\n",
        "        cx = int((x3 + x4) // 2)\n",
        "        cy = int((y3 + y4) // 2)\n",
        "\n",
        "        cv2.rectangle(frame, (x3, y3), (x4, y4), (0, 255, 0), 2)\n",
        "        cv2.circle(frame, (cx, cy), 4, (0, 0, 255), -1)\n",
        "\n",
        "        # Calculate speed\n",
        "        if bbox_id in previous_positions:\n",
        "            prev_cx, prev_cy, prev_time = previous_positions[bbox_id]\n",
        "            distance = ((cx - prev_cx) ** 2 + (cy - prev_cy) ** 2) ** 0.5\n",
        "            time_elapsed = time.time() - prev_time\n",
        "            speed = distance / time_elapsed\n",
        "\n",
        "            # Check if the car is slow\n",
        "            if speed < slow_speed_threshold:\n",
        "                slow_cars_count += 1\n",
        "\n",
        "        # Update previous positions\n",
        "        previous_positions[bbox_id] = (cx, cy, time.time())\n",
        "        total_cars += 1\n",
        "        bbox_id += 1\n",
        "\n",
        "    # Calculate traffic score\n",
        "    if total_cars > 0:\n",
        "        slow_percentage = (slow_cars_count / total_cars) * 100\n",
        "        traffic_score = int(min(max((slow_percentage / 10), 1), 10))\n",
        "    else:\n",
        "        traffic_score = 1  # No cars detected, minimal traffic\n",
        "\n",
        "    traffic_scores.append(traffic_score)\n",
        "\n",
        "    # Display lines, car counts, and traffic score\n",
        "    text_color = (255, 255, 255)  # white color for text\n",
        "    red_color = (0, 0, 255)  # red color\n",
        "    blue_color = (255, 0, 0)  # blue color\n",
        "    green_color = (0, 255, 0)  # green color\n",
        "\n",
        "    cv2.line(frame, (172, red_line_y), (774, red_line_y), red_color, 3)  # Red line\n",
        "    cv2.putText(frame, 'red line', (172, red_line_y), cv2.FONT_HERSHEY_SIMPLEX, 0.5, text_color, 1, cv2.LINE_AA)\n",
        "\n",
        "    cv2.line(frame, (8, blue_line_y), (927, blue_line_y), blue_color, 3)  # Blue line\n",
        "    cv2.putText(frame, 'blue line', (8, blue_line_y), cv2.FONT_HERSHEY_SIMPLEX, 0.5, text_color, 1, cv2.LINE_AA)\n",
        "\n",
        "    cv2.putText(frame, f'Traffic Score: {traffic_score}', (60, 80), cv2.FONT_HERSHEY_SIMPLEX, 0.7, (0, 255, 255), 2)\n",
        "\n",
        "    cv2.imshow(\"Traffic Monitoring\", frame)\n",
        "    if cv2.waitKey(1) & 0xFF == 27:\n",
        "        break\n",
        "\n",
        "cap.release()\n",
        "cv2.destroyAllWindows()"
      ],
      "metadata": {
        "colab": {
          "base_uri": "https://localhost:8080/",
          "height": 105
        },
        "id": "q37zDxwWYxIK",
        "outputId": "85d515a7-5285-4b2e-affb-67d752e651b6"
      },
      "execution_count": null,
      "outputs": [
        {
          "output_type": "error",
          "ename": "IndentationError",
          "evalue": "unindent does not match any outer indentation level (<tokenize>, line 21)",
          "traceback": [
            "\u001b[0;36m  File \u001b[0;32m\"<tokenize>\"\u001b[0;36m, line \u001b[0;32m21\u001b[0m\n\u001b[0;31m    c = class_list[d]\u001b[0m\n\u001b[0m    ^\u001b[0m\n\u001b[0;31mIndentationError\u001b[0m\u001b[0;31m:\u001b[0m unindent does not match any outer indentation level\n"
          ]
        }
      ]
    }
  ]
}